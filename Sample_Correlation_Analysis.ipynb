{
  "nbformat": 4,
  "nbformat_minor": 0,
  "metadata": {
    "colab": {
      "provenance": [],
      "authorship_tag": "ABX9TyN56BZRCG/y+p1FRx3c/470",
      "include_colab_link": true
    },
    "kernelspec": {
      "name": "python3",
      "display_name": "Python 3"
    },
    "language_info": {
      "name": "python"
    }
  },
  "cells": [
    {
      "cell_type": "markdown",
      "metadata": {
        "id": "view-in-github",
        "colab_type": "text"
      },
      "source": [
        "<a href=\"https://colab.research.google.com/github/mkt-sard/Python-with-Google-Colab/blob/main/Sample_Correlation_Analysis.ipynb\" target=\"_parent\"><img src=\"https://colab.research.google.com/assets/colab-badge.svg\" alt=\"Open In Colab\"/></a>"
      ]
    },
    {
      "cell_type": "code",
      "execution_count": null,
      "metadata": {
        "id": "KOeXQLJA2JUN"
      },
      "outputs": [],
      "source": [
        "import pandas as pd\n",
        "import numpy as np\n",
        "import matplotlib.pyplot as plt\n",
        "import seaborn as sns"
      ]
    },
    {
      "cell_type": "code",
      "source": [
        "# Load the dataset from Excel\n",
        "file_path = 'Sales_Opportunities_SF.xlsx'  # Update with the correct file path\n",
        "df = pd.read_excel(file_path)\n",
        "\n",
        "# Display the first few rows of the dataset\n",
        "print(df.head())\n",
        "\n",
        "# Check column names\n",
        "print(df.columns)"
      ],
      "metadata": {
        "id": "zp2AcLnb2QH7"
      },
      "execution_count": null,
      "outputs": []
    },
    {
      "cell_type": "code",
      "source": [
        "# Check for missing values\n",
        "print(df.isnull().sum())\n",
        "\n",
        "# Drop rows with missing values in Op_Amount or Won_Amount (if necessary)\n",
        "df = df.dropna(subset=['Op_Amount', 'Won_Amount'])\n",
        "\n",
        "# Ensure Op_Amount and Won_Amount are numeric\n",
        "df['Op_Amount'] = pd.to_numeric(df['Op_Amount'], errors='coerce')\n",
        "df['Won_Amount'] = pd.to_numeric(df['Won_Amount'], errors='coerce')\n",
        "\n",
        "# Drop rows with invalid values\n",
        "df = df.dropna(subset=['Op_Amount', 'Won_Amount'])\n",
        "\n",
        "# Calculate Win Rate (Won Amount as a percentage of Op Amount)\n",
        "df['Win_Rate'] = (df['Won_Amount'] / df['Op_Amount']) * 100\n",
        "\n",
        "# Display the cleaned dataset\n",
        "print(df.head())"
      ],
      "metadata": {
        "id": "Ob5-mprn2d9m"
      },
      "execution_count": null,
      "outputs": []
    },
    {
      "cell_type": "code",
      "source": [
        "# Calculate correlation\n",
        "correlation = df['Op_Amount'].corr(df['Won_Amount'])\n",
        "\n",
        "print(f\"Correlation between Opportunity value (money) converted and Total value of the opportunities marked as won: {correlation:.2f}\")"
      ],
      "metadata": {
        "id": "GlbOXbc22lyX"
      },
      "execution_count": null,
      "outputs": []
    },
    {
      "cell_type": "code",
      "source": [
        "#visualization(scatter plot)\n",
        "plt.figure(figsize=(10, 6))\n",
        "sns.scatterplot(x='Op_Amount', y='Won_Amount', data=df, hue='Win_Rate', palette='viridis')\n",
        "plt.title('Relationship between Op Amount and Won Amount')\n",
        "plt.xlabel('Opportunity Amount (Op Amount)')\n",
        "plt.ylabel('Won Amount')\n",
        "plt.show()"
      ],
      "metadata": {
        "id": "hvBv-HFF3Iuo"
      },
      "execution_count": null,
      "outputs": []
    },
    {
      "cell_type": "code",
      "source": [
        "#Vizualizing the distribution of win rate to identify whether most opportunities are closing at a consistent win rate or if there is significant variability\n",
        "plt.figure(figsize=(10, 6))\n",
        "sns.histplot(df['Win_Rate'], bins=20, kde=True, color='blue')\n",
        "plt.title('Distribution of Won Amount as % of Op Amount')\n",
        "plt.xlabel('Won Amount (%)')\n",
        "plt.ylabel('Frequency')\n",
        "plt.show()"
      ],
      "metadata": {
        "id": "x7ndiqNW3URZ"
      },
      "execution_count": null,
      "outputs": []
    }
  ]
}